{
 "cells": [
  {
   "cell_type": "code",
   "execution_count": null,
   "metadata": {},
   "outputs": [],
   "source": [
    "import pandas as pd\n",
    "print(f\"Pandas version: {pd.__version__}\")"
   ]
  }
 ],
 "metadata": {
  "interpreter": {
   "hash": "333f3af9d2be23e5ba6b94745902dd399d9c71edafea2d6f880817098483d6f1"
  },
  "kernelspec": {
   "display_name": "Python 3.8.12 64-bit ('mroi_ml_lib': conda)",
   "language": "python",
   "name": "python3"
  },
  "language_info": {
   "codemirror_mode": {
    "name": "ipython",
    "version": 3
   },
   "file_extension": ".py",
   "mimetype": "text/x-python",
   "name": "python",
   "nbconvert_exporter": "python",
   "pygments_lexer": "ipython3",
   "version": "3.8.12"
  },
  "orig_nbformat": 4
 },
 "nbformat": 4,
 "nbformat_minor": 2
}
