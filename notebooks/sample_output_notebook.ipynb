{
 "cells": [
  {
   "cell_type": "code",
   "execution_count": 1,
   "id": "34ce5a33",
   "metadata": {
    "execution": {
     "iopub.execute_input": "2022-01-02T16:02:30.577473Z",
     "iopub.status.busy": "2022-01-02T16:02:30.576714Z",
     "iopub.status.idle": "2022-01-02T16:02:30.906457Z",
     "shell.execute_reply": "2022-01-02T16:02:30.906012Z"
    },
    "papermill": {
     "duration": 0.339305,
     "end_time": "2022-01-02T16:02:30.906553",
     "exception": false,
     "start_time": "2022-01-02T16:02:30.567248",
     "status": "completed"
    },
    "tags": []
   },
   "outputs": [
    {
     "name": "stdout",
     "output_type": "stream",
     "text": [
      "Pandas version: 1.2.4\n"
     ]
    }
   ],
   "source": [
    "import pandas as pd\n",
    "print(f\"Pandas version: {pd.__version__}\")"
   ]
  }
 ],
 "metadata": {
  "interpreter": {
   "hash": "333f3af9d2be23e5ba6b94745902dd399d9c71edafea2d6f880817098483d6f1"
  },
  "kernelspec": {
   "display_name": "Python 3.8.12 64-bit ('mroi_ml_lib': conda)",
   "language": "python",
   "name": "python3"
  },
  "language_info": {
   "codemirror_mode": {
    "name": "ipython",
    "version": 3
   },
   "file_extension": ".py",
   "mimetype": "text/x-python",
   "name": "python",
   "nbconvert_exporter": "python",
   "pygments_lexer": "ipython3",
   "version": "3.8.8"
  },
  "papermill": {
   "default_parameters": {},
   "duration": 1.662874,
   "end_time": "2022-01-02T16:02:31.213697",
   "environment_variables": {},
   "exception": null,
   "input_path": "sample_input_notebook.ipynb",
   "output_path": "sample_output_notebook.ipynb",
   "parameters": {},
   "start_time": "2022-01-02T16:02:29.550823",
   "version": "2.3.3"
  }
 },
 "nbformat": 4,
 "nbformat_minor": 5
}